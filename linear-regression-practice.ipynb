{
 "cells": [
  {
   "cell_type": "markdown",
   "id": "ba6dff24",
   "metadata": {
    "ExecuteTime": {
     "end_time": "2023-11-07T12:43:27.586392Z",
     "start_time": "2023-11-07T12:43:27.566437Z"
    },
    "papermill": {
     "duration": 0.018529,
     "end_time": "2023-11-08T16:32:31.277910",
     "exception": false,
     "start_time": "2023-11-08T16:32:31.259381",
     "status": "completed"
    },
    "tags": []
   },
   "source": [
    "# Linear Regression\n",
    "\n",
    "*Startup dataset with 50 records*\n"
   ]
  },
  {
   "cell_type": "code",
   "execution_count": 1,
   "id": "fe5747e1",
   "metadata": {
    "ExecuteTime": {
     "end_time": "2023-11-08T14:32:05.778882Z",
     "start_time": "2023-11-08T14:32:05.748318Z"
    },
    "execution": {
     "iopub.execute_input": "2023-11-08T16:32:31.318178Z",
     "iopub.status.busy": "2023-11-08T16:32:31.317561Z",
     "iopub.status.idle": "2023-11-08T16:32:33.785758Z",
     "shell.execute_reply": "2023-11-08T16:32:33.784278Z"
    },
    "papermill": {
     "duration": 2.492537,
     "end_time": "2023-11-08T16:32:33.789381",
     "exception": false,
     "start_time": "2023-11-08T16:32:31.296844",
     "status": "completed"
    },
    "tags": []
   },
   "outputs": [],
   "source": [
    "import pandas as pd\n",
    "import numpy as np\n",
    "import matplotlib.pyplot as plt\n",
    "import seaborn as sns\n",
    "import warnings"
   ]
  },
  {
   "cell_type": "code",
   "execution_count": 2,
   "id": "950f7aa4",
   "metadata": {
    "ExecuteTime": {
     "end_time": "2023-11-08T14:32:05.792749Z",
     "start_time": "2023-11-08T14:32:05.781877Z"
    },
    "execution": {
     "iopub.execute_input": "2023-11-08T16:32:33.828068Z",
     "iopub.status.busy": "2023-11-08T16:32:33.827381Z",
     "iopub.status.idle": "2023-11-08T16:32:33.833990Z",
     "shell.execute_reply": "2023-11-08T16:32:33.832414Z"
    },
    "papermill": {
     "duration": 0.029864,
     "end_time": "2023-11-08T16:32:33.837038",
     "exception": false,
     "start_time": "2023-11-08T16:32:33.807174",
     "status": "completed"
    },
    "tags": []
   },
   "outputs": [],
   "source": [
    "warnings.filterwarnings('ignore')"
   ]
  },
  {
   "cell_type": "code",
   "execution_count": 3,
   "id": "80a02706",
   "metadata": {
    "ExecuteTime": {
     "end_time": "2023-11-08T14:32:05.841279Z",
     "start_time": "2023-11-08T14:32:05.794746Z"
    },
    "execution": {
     "iopub.execute_input": "2023-11-08T16:32:33.875348Z",
     "iopub.status.busy": "2023-11-08T16:32:33.874832Z",
     "iopub.status.idle": "2023-11-08T16:32:33.897646Z",
     "shell.execute_reply": "2023-11-08T16:32:33.896428Z"
    },
    "papermill": {
     "duration": 0.045304,
     "end_time": "2023-11-08T16:32:33.900491",
     "exception": false,
     "start_time": "2023-11-08T16:32:33.855187",
     "status": "completed"
    },
    "tags": []
   },
   "outputs": [],
   "source": [
    "# reading the data\n",
    "df = pd.read_csv('/kaggle/input/50-startups-lr/50_Startups_LR.csv')"
   ]
  },
  {
   "cell_type": "markdown",
   "id": "58965fa0",
   "metadata": {
    "papermill": {
     "duration": 0.018224,
     "end_time": "2023-11-08T16:32:33.937495",
     "exception": false,
     "start_time": "2023-11-08T16:32:33.919271",
     "status": "completed"
    },
    "tags": []
   },
   "source": [
    "### Basic Checks"
   ]
  },
  {
   "cell_type": "code",
   "execution_count": 4,
   "id": "382076fe",
   "metadata": {
    "ExecuteTime": {
     "end_time": "2023-11-08T14:32:05.869024Z",
     "start_time": "2023-11-08T14:32:05.843349Z"
    },
    "execution": {
     "iopub.execute_input": "2023-11-08T16:32:33.975499Z",
     "iopub.status.busy": "2023-11-08T16:32:33.973927Z",
     "iopub.status.idle": "2023-11-08T16:32:34.006347Z",
     "shell.execute_reply": "2023-11-08T16:32:34.004822Z"
    },
    "papermill": {
     "duration": 0.055435,
     "end_time": "2023-11-08T16:32:34.010318",
     "exception": false,
     "start_time": "2023-11-08T16:32:33.954883",
     "status": "completed"
    },
    "tags": []
   },
   "outputs": [
    {
     "data": {
      "text/html": [
       "<div>\n",
       "<style scoped>\n",
       "    .dataframe tbody tr th:only-of-type {\n",
       "        vertical-align: middle;\n",
       "    }\n",
       "\n",
       "    .dataframe tbody tr th {\n",
       "        vertical-align: top;\n",
       "    }\n",
       "\n",
       "    .dataframe thead th {\n",
       "        text-align: right;\n",
       "    }\n",
       "</style>\n",
       "<table border=\"1\" class=\"dataframe\">\n",
       "  <thead>\n",
       "    <tr style=\"text-align: right;\">\n",
       "      <th></th>\n",
       "      <th>R&amp;D Spend</th>\n",
       "      <th>Administration</th>\n",
       "      <th>Marketing Spend</th>\n",
       "      <th>State</th>\n",
       "      <th>Profit</th>\n",
       "    </tr>\n",
       "  </thead>\n",
       "  <tbody>\n",
       "    <tr>\n",
       "      <th>0</th>\n",
       "      <td>165349.20</td>\n",
       "      <td>136897.80</td>\n",
       "      <td>471784.10</td>\n",
       "      <td>New York</td>\n",
       "      <td>192261.83</td>\n",
       "    </tr>\n",
       "    <tr>\n",
       "      <th>1</th>\n",
       "      <td>162597.70</td>\n",
       "      <td>151377.59</td>\n",
       "      <td>443898.53</td>\n",
       "      <td>California</td>\n",
       "      <td>191792.06</td>\n",
       "    </tr>\n",
       "    <tr>\n",
       "      <th>2</th>\n",
       "      <td>153441.51</td>\n",
       "      <td>101145.55</td>\n",
       "      <td>407934.54</td>\n",
       "      <td>Florida</td>\n",
       "      <td>191050.39</td>\n",
       "    </tr>\n",
       "    <tr>\n",
       "      <th>3</th>\n",
       "      <td>144372.41</td>\n",
       "      <td>118671.85</td>\n",
       "      <td>383199.62</td>\n",
       "      <td>New York</td>\n",
       "      <td>182901.99</td>\n",
       "    </tr>\n",
       "    <tr>\n",
       "      <th>4</th>\n",
       "      <td>142107.34</td>\n",
       "      <td>91391.77</td>\n",
       "      <td>366168.42</td>\n",
       "      <td>Florida</td>\n",
       "      <td>166187.94</td>\n",
       "    </tr>\n",
       "  </tbody>\n",
       "</table>\n",
       "</div>"
      ],
      "text/plain": [
       "   R&D Spend  Administration  Marketing Spend       State     Profit\n",
       "0  165349.20       136897.80        471784.10    New York  192261.83\n",
       "1  162597.70       151377.59        443898.53  California  191792.06\n",
       "2  153441.51       101145.55        407934.54     Florida  191050.39\n",
       "3  144372.41       118671.85        383199.62    New York  182901.99\n",
       "4  142107.34        91391.77        366168.42     Florida  166187.94"
      ]
     },
     "execution_count": 4,
     "metadata": {},
     "output_type": "execute_result"
    }
   ],
   "source": [
    "df.head()"
   ]
  },
  {
   "cell_type": "code",
   "execution_count": 5,
   "id": "71ba126d",
   "metadata": {
    "ExecuteTime": {
     "end_time": "2023-11-08T14:32:05.894044Z",
     "start_time": "2023-11-08T14:32:05.869024Z"
    },
    "execution": {
     "iopub.execute_input": "2023-11-08T16:32:34.049491Z",
     "iopub.status.busy": "2023-11-08T16:32:34.048704Z",
     "iopub.status.idle": "2023-11-08T16:32:34.087247Z",
     "shell.execute_reply": "2023-11-08T16:32:34.085788Z"
    },
    "papermill": {
     "duration": 0.061283,
     "end_time": "2023-11-08T16:32:34.090245",
     "exception": false,
     "start_time": "2023-11-08T16:32:34.028962",
     "status": "completed"
    },
    "tags": []
   },
   "outputs": [
    {
     "name": "stdout",
     "output_type": "stream",
     "text": [
      "<class 'pandas.core.frame.DataFrame'>\n",
      "RangeIndex: 50 entries, 0 to 49\n",
      "Data columns (total 5 columns):\n",
      " #   Column           Non-Null Count  Dtype  \n",
      "---  ------           --------------  -----  \n",
      " 0   R&D Spend        50 non-null     float64\n",
      " 1   Administration   50 non-null     float64\n",
      " 2   Marketing Spend  50 non-null     float64\n",
      " 3   State            50 non-null     object \n",
      " 4   Profit           50 non-null     float64\n",
      "dtypes: float64(4), object(1)\n",
      "memory usage: 2.1+ KB\n"
     ]
    }
   ],
   "source": [
    "df.info()"
   ]
  },
  {
   "cell_type": "code",
   "execution_count": 6,
   "id": "481b7b23",
   "metadata": {
    "ExecuteTime": {
     "end_time": "2023-11-08T14:32:05.930864Z",
     "start_time": "2023-11-08T14:32:05.896078Z"
    },
    "execution": {
     "iopub.execute_input": "2023-11-08T16:32:34.129345Z",
     "iopub.status.busy": "2023-11-08T16:32:34.128545Z",
     "iopub.status.idle": "2023-11-08T16:32:34.160264Z",
     "shell.execute_reply": "2023-11-08T16:32:34.159015Z"
    },
    "papermill": {
     "duration": 0.055257,
     "end_time": "2023-11-08T16:32:34.164014",
     "exception": false,
     "start_time": "2023-11-08T16:32:34.108757",
     "status": "completed"
    },
    "tags": []
   },
   "outputs": [
    {
     "data": {
      "text/html": [
       "<div>\n",
       "<style scoped>\n",
       "    .dataframe tbody tr th:only-of-type {\n",
       "        vertical-align: middle;\n",
       "    }\n",
       "\n",
       "    .dataframe tbody tr th {\n",
       "        vertical-align: top;\n",
       "    }\n",
       "\n",
       "    .dataframe thead th {\n",
       "        text-align: right;\n",
       "    }\n",
       "</style>\n",
       "<table border=\"1\" class=\"dataframe\">\n",
       "  <thead>\n",
       "    <tr style=\"text-align: right;\">\n",
       "      <th></th>\n",
       "      <th>count</th>\n",
       "      <th>mean</th>\n",
       "      <th>std</th>\n",
       "      <th>min</th>\n",
       "      <th>25%</th>\n",
       "      <th>50%</th>\n",
       "      <th>75%</th>\n",
       "      <th>max</th>\n",
       "    </tr>\n",
       "  </thead>\n",
       "  <tbody>\n",
       "    <tr>\n",
       "      <th>R&amp;D Spend</th>\n",
       "      <td>50.0</td>\n",
       "      <td>73721.6156</td>\n",
       "      <td>45902.256482</td>\n",
       "      <td>0.00</td>\n",
       "      <td>39936.3700</td>\n",
       "      <td>73051.080</td>\n",
       "      <td>101602.8000</td>\n",
       "      <td>165349.20</td>\n",
       "    </tr>\n",
       "    <tr>\n",
       "      <th>Administration</th>\n",
       "      <td>50.0</td>\n",
       "      <td>121344.6396</td>\n",
       "      <td>28017.802755</td>\n",
       "      <td>51283.14</td>\n",
       "      <td>103730.8750</td>\n",
       "      <td>122699.795</td>\n",
       "      <td>144842.1800</td>\n",
       "      <td>182645.56</td>\n",
       "    </tr>\n",
       "    <tr>\n",
       "      <th>Marketing Spend</th>\n",
       "      <td>50.0</td>\n",
       "      <td>211025.0978</td>\n",
       "      <td>122290.310726</td>\n",
       "      <td>0.00</td>\n",
       "      <td>129300.1325</td>\n",
       "      <td>212716.240</td>\n",
       "      <td>299469.0850</td>\n",
       "      <td>471784.10</td>\n",
       "    </tr>\n",
       "    <tr>\n",
       "      <th>Profit</th>\n",
       "      <td>50.0</td>\n",
       "      <td>112012.6392</td>\n",
       "      <td>40306.180338</td>\n",
       "      <td>14681.40</td>\n",
       "      <td>90138.9025</td>\n",
       "      <td>107978.190</td>\n",
       "      <td>139765.9775</td>\n",
       "      <td>192261.83</td>\n",
       "    </tr>\n",
       "  </tbody>\n",
       "</table>\n",
       "</div>"
      ],
      "text/plain": [
       "                 count         mean            std       min          25%  \\\n",
       "R&D Spend         50.0   73721.6156   45902.256482      0.00   39936.3700   \n",
       "Administration    50.0  121344.6396   28017.802755  51283.14  103730.8750   \n",
       "Marketing Spend   50.0  211025.0978  122290.310726      0.00  129300.1325   \n",
       "Profit            50.0  112012.6392   40306.180338  14681.40   90138.9025   \n",
       "\n",
       "                        50%          75%        max  \n",
       "R&D Spend         73051.080  101602.8000  165349.20  \n",
       "Administration   122699.795  144842.1800  182645.56  \n",
       "Marketing Spend  212716.240  299469.0850  471784.10  \n",
       "Profit           107978.190  139765.9775  192261.83  "
      ]
     },
     "execution_count": 6,
     "metadata": {},
     "output_type": "execute_result"
    }
   ],
   "source": [
    "df.describe().T"
   ]
  },
  {
   "cell_type": "markdown",
   "id": "5c115c0a",
   "metadata": {
    "papermill": {
     "duration": 0.01855,
     "end_time": "2023-11-08T16:32:34.201455",
     "exception": false,
     "start_time": "2023-11-08T16:32:34.182905",
     "status": "completed"
    },
    "tags": []
   },
   "source": [
    "**Inference :**\n",
    "1. There is a huge difference in the R&D Spend, which means higher range between 0 - 165349.2\n",
    "2. Marketing Spend also faces similar huge range : from 0 - 471784.10\n"
   ]
  },
  {
   "cell_type": "markdown",
   "id": "7f4d47da",
   "metadata": {
    "papermill": {
     "duration": 0.021545,
     "end_time": "2023-11-08T16:32:34.243102",
     "exception": false,
     "start_time": "2023-11-08T16:32:34.221557",
     "status": "completed"
    },
    "tags": []
   },
   "source": [
    "### Domain Analysis\n",
    "<ul> \n",
    "    <li><b>R&D Spend</b> : Amount spend on Research and development by the startup</li>\n",
    "    <li><b>Administration</b> : Amount spend for administration purpose</li>\n",
    "    <li><b>Marketing Spend</b>\t: Amount spend for marketing the product of startup</li>\n",
    "    <li><b>State</b> : The location of startup</li>\n",
    "    <li><b>Profit</b> : Profit earned by the company</li>\n",
    "</ul>"
   ]
  },
  {
   "cell_type": "markdown",
   "id": "b7e6d97c",
   "metadata": {
    "papermill": {
     "duration": 0.018925,
     "end_time": "2023-11-08T16:32:34.282142",
     "exception": false,
     "start_time": "2023-11-08T16:32:34.263217",
     "status": "completed"
    },
    "tags": []
   },
   "source": [
    "### Explonatory Data Analysis"
   ]
  },
  {
   "cell_type": "code",
   "execution_count": 7,
   "id": "2b850a76",
   "metadata": {
    "ExecuteTime": {
     "end_time": "2023-11-08T14:32:05.945432Z",
     "start_time": "2023-11-08T14:32:05.933717Z"
    },
    "execution": {
     "iopub.execute_input": "2023-11-08T16:32:34.404916Z",
     "iopub.status.busy": "2023-11-08T16:32:34.404065Z",
     "iopub.status.idle": "2023-11-08T16:32:34.414047Z",
     "shell.execute_reply": "2023-11-08T16:32:34.412375Z"
    },
    "papermill": {
     "duration": 0.034142,
     "end_time": "2023-11-08T16:32:34.416873",
     "exception": false,
     "start_time": "2023-11-08T16:32:34.382731",
     "status": "completed"
    },
    "tags": []
   },
   "outputs": [
    {
     "data": {
      "text/plain": [
       "R&D Spend          0\n",
       "Administration     0\n",
       "Marketing Spend    0\n",
       "State              0\n",
       "Profit             0\n",
       "dtype: int64"
      ]
     },
     "execution_count": 7,
     "metadata": {},
     "output_type": "execute_result"
    }
   ],
   "source": [
    "df.isna().sum()"
   ]
  },
  {
   "cell_type": "markdown",
   "id": "8179b191",
   "metadata": {
    "papermill": {
     "duration": 0.02065,
     "end_time": "2023-11-08T16:32:34.456835",
     "exception": false,
     "start_time": "2023-11-08T16:32:34.436185",
     "status": "completed"
    },
    "tags": []
   },
   "source": [
    "**Inference :**\n",
    "No missing data"
   ]
  },
  {
   "cell_type": "code",
   "execution_count": 8,
   "id": "c843be3b",
   "metadata": {
    "ExecuteTime": {
     "end_time": "2023-11-08T14:32:05.951944Z",
     "start_time": "2023-11-08T14:32:05.947560Z"
    },
    "execution": {
     "iopub.execute_input": "2023-11-08T16:32:34.499629Z",
     "iopub.status.busy": "2023-11-08T16:32:34.499138Z",
     "iopub.status.idle": "2023-11-08T16:32:34.508953Z",
     "shell.execute_reply": "2023-11-08T16:32:34.507370Z"
    },
    "papermill": {
     "duration": 0.035661,
     "end_time": "2023-11-08T16:32:34.512612",
     "exception": false,
     "start_time": "2023-11-08T16:32:34.476951",
     "status": "completed"
    },
    "tags": []
   },
   "outputs": [],
   "source": [
    "df.rename(columns={'R&D Spend':'R_and_D','Marketing Spend':'Marketing_Spend'},inplace=True)"
   ]
  },
  {
   "cell_type": "code",
   "execution_count": 9,
   "id": "712724d2",
   "metadata": {
    "ExecuteTime": {
     "end_time": "2023-11-08T14:32:06.620560Z",
     "start_time": "2023-11-08T14:32:05.952662Z"
    },
    "execution": {
     "iopub.execute_input": "2023-11-08T16:32:34.558181Z",
     "iopub.status.busy": "2023-11-08T16:32:34.557721Z",
     "iopub.status.idle": "2023-11-08T16:32:35.880342Z",
     "shell.execute_reply": "2023-11-08T16:32:35.877912Z"
    },
    "papermill": {
     "duration": 1.35496,
     "end_time": "2023-11-08T16:32:35.888939",
     "exception": false,
     "start_time": "2023-11-08T16:32:34.533979",
     "status": "completed"
    },
    "tags": []
   },
   "outputs": [
    {
     "data": {
      "image/png": "[encoded data removed]",
      "text/plain": [
       "<Figure size 2000x2500 with 3 Axes>"
      ]
     },
     "metadata": {},
     "output_type": "display_data"
    }
   ],
   "source": [
    "# Bivariant analysis\n",
    "plt.figure(figsize=(20,25),facecolor='white')\n",
    "pltnum = 1\n",
    "\n",
    "for column in df:\n",
    "    if pltnum <= 4 and column != 'State':\n",
    "        plt.subplot(3,3,pltnum)\n",
    "        sns.scatterplot(x=column,y='Profit',data=df)\n",
    "    pltnum += 1\n",
    "plt.tight_layout()"
   ]
  },
  {
   "cell_type": "markdown",
   "id": "f724bc4f",
   "metadata": {
    "papermill": {
     "duration": 0.021054,
     "end_time": "2023-11-08T16:32:35.934978",
     "exception": false,
     "start_time": "2023-11-08T16:32:35.913924",
     "status": "completed"
    },
    "tags": []
   },
   "source": [
    "**Inference :**\n",
    "   1. There is a linear relationship between R_and_D and profit (independent and dependant variable)\n",
    "   2. No strong relationship between Administration and Profit\n",
    "   3. Slight linear relationship between Marketing_Spend and Profit"
   ]
  },
  {
   "cell_type": "code",
   "execution_count": 10,
   "id": "b7c7160f",
   "metadata": {
    "ExecuteTime": {
     "end_time": "2023-11-08T14:32:07.001083Z",
     "start_time": "2023-11-08T14:32:06.624294Z"
    },
    "execution": {
     "iopub.execute_input": "2023-11-08T16:32:35.977236Z",
     "iopub.status.busy": "2023-11-08T16:32:35.976793Z",
     "iopub.status.idle": "2023-11-08T16:32:36.729924Z",
     "shell.execute_reply": "2023-11-08T16:32:36.728686Z"
    },
    "papermill": {
     "duration": 0.777692,
     "end_time": "2023-11-08T16:32:36.732732",
     "exception": false,
     "start_time": "2023-11-08T16:32:35.955040",
     "status": "completed"
    },
    "tags": []
   },
   "outputs": [
    {
     "data": {
      "image/png": "[encoded data removed]",
      "text/plain": [
       "<Figure size 2000x2500 with 3 Axes>"
      ]
     },
     "metadata": {},
     "output_type": "display_data"
    }
   ],
   "source": [
    "plt.figure(figsize=(20,25),facecolor='white')\n",
    "pltnum = 1\n",
    "\n",
    "for column in df:\n",
    "    if pltnum <= 4 and column != 'State':\n",
    "        plt.subplot(3,3,pltnum)\n",
    "        sns.boxplot(x=column,data=df)\n",
    "    pltnum += 1\n",
    "plt.tight_layout()"
   ]
  },
  {
   "cell_type": "markdown",
   "id": "662b0d3f",
   "metadata": {
    "papermill": {
     "duration": 0.020082,
     "end_time": "2023-11-08T16:32:36.772891",
     "exception": false,
     "start_time": "2023-11-08T16:32:36.752809",
     "status": "completed"
    },
    "tags": []
   },
   "source": [
    "**Inference :**\n",
    "1. There seems to be no outlier in the continuous features"
   ]
  },
  {
   "cell_type": "code",
   "execution_count": 11,
   "id": "56799924",
   "metadata": {
    "ExecuteTime": {
     "end_time": "2023-11-08T14:32:07.520815Z",
     "start_time": "2023-11-08T14:32:07.002165Z"
    },
    "execution": {
     "iopub.execute_input": "2023-11-08T16:32:36.816554Z",
     "iopub.status.busy": "2023-11-08T16:32:36.815079Z",
     "iopub.status.idle": "2023-11-08T16:32:37.796929Z",
     "shell.execute_reply": "2023-11-08T16:32:37.795895Z"
    },
    "papermill": {
     "duration": 1.006689,
     "end_time": "2023-11-08T16:32:37.799803",
     "exception": false,
     "start_time": "2023-11-08T16:32:36.793114",
     "status": "completed"
    },
    "tags": []
   },
   "outputs": [
    {
     "data": {
      "image/png": "[encoded data removed]",
      "text/plain": [
       "<Figure size 1500x500 with 3 Axes>"
      ]
     },
     "metadata": {},
     "output_type": "display_data"
    }
   ],
   "source": [
    "columns_to_plot = ['R_and_D', 'Administration', 'Marketing_Spend']\n",
    "\n",
    "num_cols = len(columns_to_plot)\n",
    "\n",
    "fig, axes = plt.subplots(1, num_cols, figsize=(15, 5)) \n",
    "\n",
    "# Create displot for each column and display them side by side\n",
    "for i, column in enumerate(columns_to_plot):\n",
    "    sns.histplot(df[column], kde=True, ax=axes[i])\n",
    "    axes[i].set_title(f'Distribution of {column}')\n",
    "\n",
    "plt.show()"
   ]
  },
  {
   "cell_type": "code",
   "execution_count": 12,
   "id": "28552663",
   "metadata": {
    "ExecuteTime": {
     "end_time": "2023-11-08T14:32:07.527089Z",
     "start_time": "2023-11-08T14:32:07.522854Z"
    },
    "execution": {
     "iopub.execute_input": "2023-11-08T16:32:37.845625Z",
     "iopub.status.busy": "2023-11-08T16:32:37.844974Z",
     "iopub.status.idle": "2023-11-08T16:32:37.849828Z",
     "shell.execute_reply": "2023-11-08T16:32:37.848997Z"
    },
    "papermill": {
     "duration": 0.030666,
     "end_time": "2023-11-08T16:32:37.852255",
     "exception": false,
     "start_time": "2023-11-08T16:32:37.821589",
     "status": "completed"
    },
    "tags": []
   },
   "outputs": [],
   "source": [
    "from scipy import stats"
   ]
  },
  {
   "cell_type": "code",
   "execution_count": 13,
   "id": "9a63d403",
   "metadata": {
    "ExecuteTime": {
     "end_time": "2023-11-08T14:32:07.556684Z",
     "start_time": "2023-11-08T14:32:07.528743Z"
    },
    "execution": {
     "iopub.execute_input": "2023-11-08T16:32:37.897442Z",
     "iopub.status.busy": "2023-11-08T16:32:37.897000Z",
     "iopub.status.idle": "2023-11-08T16:32:37.910648Z",
     "shell.execute_reply": "2023-11-08T16:32:37.909418Z"
    },
    "papermill": {
     "duration": 0.0395,
     "end_time": "2023-11-08T16:32:37.913367",
     "exception": false,
     "start_time": "2023-11-08T16:32:37.873867",
     "status": "completed"
    },
    "tags": []
   },
   "outputs": [
    {
     "name": "stdout",
     "output_type": "stream",
     "text": [
      "Skewness of R_and_D : 0.15904052321503395\n",
      "Skewness of Administration : -0.4742300698920047\n",
      "Skewness of Marketing_Spend : -0.04506631617666136\n",
      "Skewness of Profit : 0.02258638356958943\n"
     ]
    }
   ],
   "source": [
    "for column in df:\n",
    "    if column != 'State':\n",
    "        skewness_val = stats.skew(df[column])\n",
    "        print('Skewness of {0} : {1}'.format(column,skewness_val)) \n",
    "\n",
    "# ['Skewness of {0} : {1}'.format(column,stats.skew(df[column])) for column in df if column!= 'State']"
   ]
  },
  {
   "cell_type": "markdown",
   "id": "895780ba",
   "metadata": {
    "papermill": {
     "duration": 0.021188,
     "end_time": "2023-11-08T16:32:37.956701",
     "exception": false,
     "start_time": "2023-11-08T16:32:37.935513",
     "status": "completed"
    },
    "tags": []
   },
   "source": [
    "**Inference :**\n",
    "1. Skewness of all the continuous variables are in the correct range"
   ]
  },
  {
   "cell_type": "code",
   "execution_count": 14,
   "id": "be457568",
   "metadata": {
    "ExecuteTime": {
     "end_time": "2023-11-08T14:32:07.570957Z",
     "start_time": "2023-11-08T14:32:07.558682Z"
    },
    "execution": {
     "iopub.execute_input": "2023-11-08T16:32:38.002682Z",
     "iopub.status.busy": "2023-11-08T16:32:38.001690Z",
     "iopub.status.idle": "2023-11-08T16:32:38.015772Z",
     "shell.execute_reply": "2023-11-08T16:32:38.014649Z"
    },
    "papermill": {
     "duration": 0.040201,
     "end_time": "2023-11-08T16:32:38.018473",
     "exception": false,
     "start_time": "2023-11-08T16:32:37.978272",
     "status": "completed"
    },
    "tags": []
   },
   "outputs": [
    {
     "name": "stdout",
     "output_type": "stream",
     "text": [
      "Kurtosis of R_and_D : -0.8050676431519039\n",
      "Kurtosis of Administration : 0.08553840791984113\n",
      "Kurtosis of Marketing_Spend : -0.7240327111087308\n",
      "Kurtosis of Profit : -0.17529637679752152\n"
     ]
    }
   ],
   "source": [
    "for column in df:\n",
    "    if column != 'State':\n",
    "        Kurtosis_val = stats.kurtosis(df[column])\n",
    "        print('Kurtosis of {0} : {1}'.format(column,Kurtosis_val)) \n",
    "\n",
    "# ['Kurtosis of {0} : {1}'.format(column,stats.kurtosis(df[column])) for column in df if column!= 'State']"
   ]
  },
  {
   "cell_type": "markdown",
   "id": "52631bc9",
   "metadata": {
    "papermill": {
     "duration": 0.021752,
     "end_time": "2023-11-08T16:32:38.062171",
     "exception": false,
     "start_time": "2023-11-08T16:32:38.040419",
     "status": "completed"
    },
    "tags": []
   },
   "source": [
    "**Inference :**\n",
    "1. Kurtosis values of all the continuous variables indicate that the distribution has lighter tails and a flatter peak than a normal distribution"
   ]
  },
  {
   "cell_type": "markdown",
   "id": "260b70e7",
   "metadata": {
    "papermill": {
     "duration": 0.02138,
     "end_time": "2023-11-08T16:32:38.105540",
     "exception": false,
     "start_time": "2023-11-08T16:32:38.084160",
     "status": "completed"
    },
    "tags": []
   },
   "source": [
    "### Data Preprocessing and feature engineering"
   ]
  },
  {
   "cell_type": "code",
   "execution_count": 15,
   "id": "38dc3888",
   "metadata": {
    "ExecuteTime": {
     "end_time": "2023-11-08T14:32:07.598282Z",
     "start_time": "2023-11-08T14:32:07.570957Z"
    },
    "execution": {
     "iopub.execute_input": "2023-11-08T16:32:38.151635Z",
     "iopub.status.busy": "2023-11-08T16:32:38.151174Z",
     "iopub.status.idle": "2023-11-08T16:32:38.353709Z",
     "shell.execute_reply": "2023-11-08T16:32:38.352475Z"
    },
    "papermill": {
     "duration": 0.229299,
     "end_time": "2023-11-08T16:32:38.356749",
     "exception": false,
     "start_time": "2023-11-08T16:32:38.127450",
     "status": "completed"
    },
    "scrolled": true,
    "tags": []
   },
   "outputs": [
    {
     "data": {
      "text/html": [
       "<div>\n",
       "<style scoped>\n",
       "    .dataframe tbody tr th:only-of-type {\n",
       "        vertical-align: middle;\n",
       "    }\n",
       "\n",
       "    .dataframe tbody tr th {\n",
       "        vertical-align: top;\n",
       "    }\n",
       "\n",
       "    .dataframe thead th {\n",
       "        text-align: right;\n",
       "    }\n",
       "</style>\n",
       "<table border=\"1\" class=\"dataframe\">\n",
       "  <thead>\n",
       "    <tr style=\"text-align: right;\">\n",
       "      <th></th>\n",
       "      <th>R_and_D</th>\n",
       "      <th>Administration</th>\n",
       "      <th>Marketing_Spend</th>\n",
       "      <th>Profit</th>\n",
       "      <th>State</th>\n",
       "    </tr>\n",
       "  </thead>\n",
       "  <tbody>\n",
       "    <tr>\n",
       "      <th>0</th>\n",
       "      <td>165349.20</td>\n",
       "      <td>136897.80</td>\n",
       "      <td>471784.10</td>\n",
       "      <td>192261.83</td>\n",
       "      <td>50</td>\n",
       "    </tr>\n",
       "    <tr>\n",
       "      <th>1</th>\n",
       "      <td>162597.70</td>\n",
       "      <td>151377.59</td>\n",
       "      <td>443898.53</td>\n",
       "      <td>191792.06</td>\n",
       "      <td>50</td>\n",
       "    </tr>\n",
       "    <tr>\n",
       "      <th>2</th>\n",
       "      <td>153441.51</td>\n",
       "      <td>101145.55</td>\n",
       "      <td>407934.54</td>\n",
       "      <td>191050.39</td>\n",
       "      <td>50</td>\n",
       "    </tr>\n",
       "    <tr>\n",
       "      <th>3</th>\n",
       "      <td>144372.41</td>\n",
       "      <td>118671.85</td>\n",
       "      <td>383199.62</td>\n",
       "      <td>182901.99</td>\n",
       "      <td>50</td>\n",
       "    </tr>\n",
       "    <tr>\n",
       "      <th>4</th>\n",
       "      <td>142107.34</td>\n",
       "      <td>91391.77</td>\n",
       "      <td>366168.42</td>\n",
       "      <td>166187.94</td>\n",
       "      <td>50</td>\n",
       "    </tr>\n",
       "  </tbody>\n",
       "</table>\n",
       "</div>"
      ],
      "text/plain": [
       "     R_and_D  Administration  Marketing_Spend     Profit  State\n",
       "0  165349.20       136897.80        471784.10  192261.83     50\n",
       "1  162597.70       151377.59        443898.53  191792.06     50\n",
       "2  153441.51       101145.55        407934.54  191050.39     50\n",
       "3  144372.41       118671.85        383199.62  182901.99     50\n",
       "4  142107.34        91391.77        366168.42  166187.94     50"
      ]
     },
     "execution_count": 15,
     "metadata": {},
     "output_type": "execute_result"
    }
   ],
   "source": [
    "from sklearn.preprocessing import OneHotEncoder\n",
    "\n",
    "ohe = OneHotEncoder()\n",
    "\n",
    "ohe.fit(df['State'].values.reshape(-1,1))\n",
    "encoded = ohe.transform(df['State'].values.reshape(-1,1))\n",
    "\n",
    "df.drop(columns=['State'],axis=1,inplace=True)\n",
    "\n",
    "df['State'] = encoded.shape[0]\n",
    "df.head()"
   ]
  },
  {
   "cell_type": "markdown",
   "id": "f6230c53",
   "metadata": {
    "papermill": {
     "duration": 0.021514,
     "end_time": "2023-11-08T16:32:38.400075",
     "exception": false,
     "start_time": "2023-11-08T16:32:38.378561",
     "status": "completed"
    },
    "tags": []
   },
   "source": [
    "The state feature is not important so we can drop that feature. Did the encoding for learning purpose."
   ]
  },
  {
   "cell_type": "code",
   "execution_count": 16,
   "id": "f1e88a76",
   "metadata": {
    "ExecuteTime": {
     "end_time": "2023-11-08T14:32:07.611046Z",
     "start_time": "2023-11-08T14:32:07.600307Z"
    },
    "execution": {
     "iopub.execute_input": "2023-11-08T16:32:38.446437Z",
     "iopub.status.busy": "2023-11-08T16:32:38.445933Z",
     "iopub.status.idle": "2023-11-08T16:32:38.453639Z",
     "shell.execute_reply": "2023-11-08T16:32:38.452400Z"
    },
    "papermill": {
     "duration": 0.034137,
     "end_time": "2023-11-08T16:32:38.456131",
     "exception": false,
     "start_time": "2023-11-08T16:32:38.421994",
     "status": "completed"
    },
    "tags": []
   },
   "outputs": [],
   "source": [
    "df.drop(columns=['State'],axis=1,inplace=True)"
   ]
  },
  {
   "cell_type": "code",
   "execution_count": 17,
   "id": "2a37b9cc",
   "metadata": {
    "ExecuteTime": {
     "end_time": "2023-11-08T14:32:07.625998Z",
     "start_time": "2023-11-08T14:32:07.613102Z"
    },
    "execution": {
     "iopub.execute_input": "2023-11-08T16:32:38.502158Z",
     "iopub.status.busy": "2023-11-08T16:32:38.501700Z",
     "iopub.status.idle": "2023-11-08T16:32:38.515810Z",
     "shell.execute_reply": "2023-11-08T16:32:38.514801Z"
    },
    "papermill": {
     "duration": 0.040275,
     "end_time": "2023-11-08T16:32:38.518270",
     "exception": false,
     "start_time": "2023-11-08T16:32:38.477995",
     "status": "completed"
    },
    "tags": []
   },
   "outputs": [
    {
     "data": {
      "text/html": [
       "<div>\n",
       "<style scoped>\n",
       "    .dataframe tbody tr th:only-of-type {\n",
       "        vertical-align: middle;\n",
       "    }\n",
       "\n",
       "    .dataframe tbody tr th {\n",
       "        vertical-align: top;\n",
       "    }\n",
       "\n",
       "    .dataframe thead th {\n",
       "        text-align: right;\n",
       "    }\n",
       "</style>\n",
       "<table border=\"1\" class=\"dataframe\">\n",
       "  <thead>\n",
       "    <tr style=\"text-align: right;\">\n",
       "      <th></th>\n",
       "      <th>R_and_D</th>\n",
       "      <th>Administration</th>\n",
       "      <th>Marketing_Spend</th>\n",
       "      <th>Profit</th>\n",
       "    </tr>\n",
       "  </thead>\n",
       "  <tbody>\n",
       "    <tr>\n",
       "      <th>0</th>\n",
       "      <td>165349.20</td>\n",
       "      <td>136897.80</td>\n",
       "      <td>471784.10</td>\n",
       "      <td>192261.83</td>\n",
       "    </tr>\n",
       "    <tr>\n",
       "      <th>1</th>\n",
       "      <td>162597.70</td>\n",
       "      <td>151377.59</td>\n",
       "      <td>443898.53</td>\n",
       "      <td>191792.06</td>\n",
       "    </tr>\n",
       "    <tr>\n",
       "      <th>2</th>\n",
       "      <td>153441.51</td>\n",
       "      <td>101145.55</td>\n",
       "      <td>407934.54</td>\n",
       "      <td>191050.39</td>\n",
       "    </tr>\n",
       "    <tr>\n",
       "      <th>3</th>\n",
       "      <td>144372.41</td>\n",
       "      <td>118671.85</td>\n",
       "      <td>383199.62</td>\n",
       "      <td>182901.99</td>\n",
       "    </tr>\n",
       "    <tr>\n",
       "      <th>4</th>\n",
       "      <td>142107.34</td>\n",
       "      <td>91391.77</td>\n",
       "      <td>366168.42</td>\n",
       "      <td>166187.94</td>\n",
       "    </tr>\n",
       "  </tbody>\n",
       "</table>\n",
       "</div>"
      ],
      "text/plain": [
       "     R_and_D  Administration  Marketing_Spend     Profit\n",
       "0  165349.20       136897.80        471784.10  192261.83\n",
       "1  162597.70       151377.59        443898.53  191792.06\n",
       "2  153441.51       101145.55        407934.54  191050.39\n",
       "3  144372.41       118671.85        383199.62  182901.99\n",
       "4  142107.34        91391.77        366168.42  166187.94"
      ]
     },
     "execution_count": 17,
     "metadata": {},
     "output_type": "execute_result"
    }
   ],
   "source": [
    "df.head()"
   ]
  },
  {
   "cell_type": "markdown",
   "id": "7c6dcbda",
   "metadata": {
    "papermill": {
     "duration": 0.022738,
     "end_time": "2023-11-08T16:32:38.563487",
     "exception": false,
     "start_time": "2023-11-08T16:32:38.540749",
     "status": "completed"
    },
    "tags": []
   },
   "source": [
    "**part of eda - checking multicollinearity using heatmap**"
   ]
  },
  {
   "cell_type": "code",
   "execution_count": 18,
   "id": "43e0da7e",
   "metadata": {
    "ExecuteTime": {
     "end_time": "2023-11-08T14:32:07.848387Z",
     "start_time": "2023-11-08T14:32:07.628157Z"
    },
    "execution": {
     "iopub.execute_input": "2023-11-08T16:32:38.612437Z",
     "iopub.status.busy": "2023-11-08T16:32:38.611629Z",
     "iopub.status.idle": "2023-11-08T16:32:39.033164Z",
     "shell.execute_reply": "2023-11-08T16:32:39.032194Z"
    },
    "papermill": {
     "duration": 0.448408,
     "end_time": "2023-11-08T16:32:39.035444",
     "exception": false,
     "start_time": "2023-11-08T16:32:38.587036",
     "status": "completed"
    },
    "tags": []
   },
   "outputs": [
    {
     "data": {
      "text/plain": [
       "<Axes: >"
      ]
     },
     "execution_count": 18,
     "metadata": {},
     "output_type": "execute_result"
    },
    {
     "data": {
      "image/png": "[encoded data removed]",
      "text/plain": [
       "<Figure size 640x480 with 2 Axes>"
      ]
     },
     "metadata": {},
     "output_type": "display_data"
    }
   ],
   "source": [
    "sns.heatmap(df.corr(),annot=True)"
   ]
  },
  {
   "cell_type": "code",
   "execution_count": 19,
   "id": "0dcf00a4",
   "metadata": {
    "ExecuteTime": {
     "end_time": "2023-11-08T14:32:07.855178Z",
     "start_time": "2023-11-08T14:32:07.850084Z"
    },
    "execution": {
     "iopub.execute_input": "2023-11-08T16:32:39.084924Z",
     "iopub.status.busy": "2023-11-08T16:32:39.084002Z",
     "iopub.status.idle": "2023-11-08T16:32:39.095752Z",
     "shell.execute_reply": "2023-11-08T16:32:39.094403Z"
    },
    "papermill": {
     "duration": 0.040477,
     "end_time": "2023-11-08T16:32:39.098953",
     "exception": false,
     "start_time": "2023-11-08T16:32:39.058476",
     "status": "completed"
    },
    "tags": []
   },
   "outputs": [
    {
     "data": {
      "text/plain": [
       "0"
      ]
     },
     "execution_count": 19,
     "metadata": {},
     "output_type": "execute_result"
    }
   ],
   "source": [
    "df.duplicated().sum()"
   ]
  },
  {
   "cell_type": "markdown",
   "id": "f4f9cd87",
   "metadata": {
    "papermill": {
     "duration": 0.022869,
     "end_time": "2023-11-08T16:32:39.145055",
     "exception": false,
     "start_time": "2023-11-08T16:32:39.122186",
     "status": "completed"
    },
    "tags": []
   },
   "source": [
    "**Inference** :\n",
    "1. R_and_D is highly correlated to profit, but rest of the features doesn't have that strong relationship.\n",
    "2. Marketing_Spend has the next best correlation and least correlation is between Administration and profit.\n",
    "3. As we have less features, we would consider all 3 variables."
   ]
  },
  {
   "cell_type": "markdown",
   "id": "1efd18bc",
   "metadata": {
    "papermill": {
     "duration": 0.022514,
     "end_time": "2023-11-08T16:32:39.190759",
     "exception": false,
     "start_time": "2023-11-08T16:32:39.168245",
     "status": "completed"
    },
    "tags": []
   },
   "source": [
    "As the values are in same range scaling is not necessary but can try it for learning purpose."
   ]
  },
  {
   "cell_type": "code",
   "execution_count": 20,
   "id": "765132cc",
   "metadata": {
    "ExecuteTime": {
     "end_time": "2023-11-08T14:32:07.876088Z",
     "start_time": "2023-11-08T14:32:07.856533Z"
    },
    "execution": {
     "iopub.execute_input": "2023-11-08T16:32:39.239450Z",
     "iopub.status.busy": "2023-11-08T16:32:39.238535Z",
     "iopub.status.idle": "2023-11-08T16:32:39.250539Z",
     "shell.execute_reply": "2023-11-08T16:32:39.249550Z"
    },
    "papermill": {
     "duration": 0.039809,
     "end_time": "2023-11-08T16:32:39.253430",
     "exception": false,
     "start_time": "2023-11-08T16:32:39.213621",
     "status": "completed"
    },
    "tags": []
   },
   "outputs": [],
   "source": [
    "from sklearn.preprocessing import MinMaxScaler\n",
    "\n",
    "scale = MinMaxScaler()\n",
    "\n",
    "df[['R_and_D','Marketing_Spend','Administration','Profit']]=scale.fit_transform(df[['R_and_D','Marketing_Spend',\n",
    "                                                                                    'Administration','Profit']])"
   ]
  },
  {
   "cell_type": "code",
   "execution_count": 21,
   "id": "e242b69f",
   "metadata": {
    "ExecuteTime": {
     "end_time": "2023-11-08T14:32:07.890490Z",
     "start_time": "2023-11-08T14:32:07.877309Z"
    },
    "execution": {
     "iopub.execute_input": "2023-11-08T16:32:39.304138Z",
     "iopub.status.busy": "2023-11-08T16:32:39.303700Z",
     "iopub.status.idle": "2023-11-08T16:32:39.317412Z",
     "shell.execute_reply": "2023-11-08T16:32:39.316388Z"
    },
    "papermill": {
     "duration": 0.040726,
     "end_time": "2023-11-08T16:32:39.319822",
     "exception": false,
     "start_time": "2023-11-08T16:32:39.279096",
     "status": "completed"
    },
    "scrolled": true,
    "tags": []
   },
   "outputs": [
    {
     "data": {
      "text/html": [
       "<div>\n",
       "<style scoped>\n",
       "    .dataframe tbody tr th:only-of-type {\n",
       "        vertical-align: middle;\n",
       "    }\n",
       "\n",
       "    .dataframe tbody tr th {\n",
       "        vertical-align: top;\n",
       "    }\n",
       "\n",
       "    .dataframe thead th {\n",
       "        text-align: right;\n",
       "    }\n",
       "</style>\n",
       "<table border=\"1\" class=\"dataframe\">\n",
       "  <thead>\n",
       "    <tr style=\"text-align: right;\">\n",
       "      <th></th>\n",
       "      <th>R_and_D</th>\n",
       "      <th>Administration</th>\n",
       "      <th>Marketing_Spend</th>\n",
       "      <th>Profit</th>\n",
       "    </tr>\n",
       "  </thead>\n",
       "  <tbody>\n",
       "    <tr>\n",
       "      <th>0</th>\n",
       "      <td>1.000000</td>\n",
       "      <td>0.651744</td>\n",
       "      <td>1.000000</td>\n",
       "      <td>1.000000</td>\n",
       "    </tr>\n",
       "    <tr>\n",
       "      <th>1</th>\n",
       "      <td>0.983359</td>\n",
       "      <td>0.761972</td>\n",
       "      <td>0.940893</td>\n",
       "      <td>0.997355</td>\n",
       "    </tr>\n",
       "    <tr>\n",
       "      <th>2</th>\n",
       "      <td>0.927985</td>\n",
       "      <td>0.379579</td>\n",
       "      <td>0.864664</td>\n",
       "      <td>0.993178</td>\n",
       "    </tr>\n",
       "    <tr>\n",
       "      <th>3</th>\n",
       "      <td>0.873136</td>\n",
       "      <td>0.512998</td>\n",
       "      <td>0.812235</td>\n",
       "      <td>0.947292</td>\n",
       "    </tr>\n",
       "    <tr>\n",
       "      <th>4</th>\n",
       "      <td>0.859438</td>\n",
       "      <td>0.305328</td>\n",
       "      <td>0.776136</td>\n",
       "      <td>0.853171</td>\n",
       "    </tr>\n",
       "  </tbody>\n",
       "</table>\n",
       "</div>"
      ],
      "text/plain": [
       "    R_and_D  Administration  Marketing_Spend    Profit\n",
       "0  1.000000        0.651744         1.000000  1.000000\n",
       "1  0.983359        0.761972         0.940893  0.997355\n",
       "2  0.927985        0.379579         0.864664  0.993178\n",
       "3  0.873136        0.512998         0.812235  0.947292\n",
       "4  0.859438        0.305328         0.776136  0.853171"
      ]
     },
     "execution_count": 21,
     "metadata": {},
     "output_type": "execute_result"
    }
   ],
   "source": [
    "df.head()"
   ]
  },
  {
   "cell_type": "markdown",
   "id": "e9d9a5d7",
   "metadata": {
    "papermill": {
     "duration": 0.022727,
     "end_time": "2023-11-08T16:32:39.365752",
     "exception": false,
     "start_time": "2023-11-08T16:32:39.343025",
     "status": "completed"
    },
    "tags": []
   },
   "source": [
    "### Model Creation and Model Evalution"
   ]
  },
  {
   "cell_type": "code",
   "execution_count": 22,
   "id": "7f0ec86f",
   "metadata": {
    "ExecuteTime": {
     "end_time": "2023-11-08T14:32:07.897211Z",
     "start_time": "2023-11-08T14:32:07.890490Z"
    },
    "execution": {
     "iopub.execute_input": "2023-11-08T16:32:39.414584Z",
     "iopub.status.busy": "2023-11-08T16:32:39.414086Z",
     "iopub.status.idle": "2023-11-08T16:32:39.419752Z",
     "shell.execute_reply": "2023-11-08T16:32:39.418772Z"
    },
    "papermill": {
     "duration": 0.03332,
     "end_time": "2023-11-08T16:32:39.422283",
     "exception": false,
     "start_time": "2023-11-08T16:32:39.388963",
     "status": "completed"
    },
    "tags": []
   },
   "outputs": [],
   "source": [
    "x = df.iloc[:,:-1]\n",
    "y = df.Profit"
   ]
  },
  {
   "cell_type": "code",
   "execution_count": 23,
   "id": "f4f37952",
   "metadata": {
    "ExecuteTime": {
     "end_time": "2023-11-08T14:32:07.910793Z",
     "start_time": "2023-11-08T14:32:07.897211Z"
    },
    "execution": {
     "iopub.execute_input": "2023-11-08T16:32:39.474927Z",
     "iopub.status.busy": "2023-11-08T16:32:39.474276Z",
     "iopub.status.idle": "2023-11-08T16:32:39.611624Z",
     "shell.execute_reply": "2023-11-08T16:32:39.610324Z"
    },
    "papermill": {
     "duration": 0.168546,
     "end_time": "2023-11-08T16:32:39.615488",
     "exception": false,
     "start_time": "2023-11-08T16:32:39.446942",
     "status": "completed"
    },
    "tags": []
   },
   "outputs": [],
   "source": [
    "from sklearn.model_selection import train_test_split\n",
    "\n",
    "x_train,x_test,y_train,y_test = train_test_split(x,y,test_size=0.2,random_state=10)"
   ]
  },
  {
   "cell_type": "code",
   "execution_count": 24,
   "id": "eb52afde",
   "metadata": {
    "ExecuteTime": {
     "end_time": "2023-11-08T14:32:07.919541Z",
     "start_time": "2023-11-08T14:32:07.911306Z"
    },
    "execution": {
     "iopub.execute_input": "2023-11-08T16:32:39.665655Z",
     "iopub.status.busy": "2023-11-08T16:32:39.665150Z",
     "iopub.status.idle": "2023-11-08T16:32:39.672198Z",
     "shell.execute_reply": "2023-11-08T16:32:39.670597Z"
    },
    "papermill": {
     "duration": 0.035437,
     "end_time": "2023-11-08T16:32:39.674983",
     "exception": false,
     "start_time": "2023-11-08T16:32:39.639546",
     "status": "completed"
    },
    "tags": []
   },
   "outputs": [
    {
     "name": "stdout",
     "output_type": "stream",
     "text": [
      "Input Training dataset shape: (40, 3)\n",
      "Input Testing dataset shape: (10, 3)\n"
     ]
    }
   ],
   "source": [
    "print(f'Input Training dataset shape: {x_train.shape}')\n",
    "print(f'Input Testing dataset shape: {x_test.shape}')"
   ]
  },
  {
   "cell_type": "code",
   "execution_count": 25,
   "id": "4c1ef950",
   "metadata": {
    "ExecuteTime": {
     "end_time": "2023-11-08T14:32:07.931805Z",
     "start_time": "2023-11-08T14:32:07.919541Z"
    },
    "execution": {
     "iopub.execute_input": "2023-11-08T16:32:39.724929Z",
     "iopub.status.busy": "2023-11-08T16:32:39.724065Z",
     "iopub.status.idle": "2023-11-08T16:32:39.729893Z",
     "shell.execute_reply": "2023-11-08T16:32:39.729050Z"
    },
    "papermill": {
     "duration": 0.034186,
     "end_time": "2023-11-08T16:32:39.732796",
     "exception": false,
     "start_time": "2023-11-08T16:32:39.698610",
     "status": "completed"
    },
    "tags": []
   },
   "outputs": [
    {
     "name": "stdout",
     "output_type": "stream",
     "text": [
      "Output Training dataset shape: (40,)\n",
      "Output Testing dataset shape: (10,)\n"
     ]
    }
   ],
   "source": [
    "print(f'Output Training dataset shape: {y_train.shape}')\n",
    "print(f'Output Testing dataset shape: {y_test.shape}')"
   ]
  },
  {
   "cell_type": "code",
   "execution_count": 26,
   "id": "7e3992e7",
   "metadata": {
    "ExecuteTime": {
     "end_time": "2023-11-08T14:32:07.944974Z",
     "start_time": "2023-11-08T14:32:07.934827Z"
    },
    "execution": {
     "iopub.execute_input": "2023-11-08T16:32:39.782366Z",
     "iopub.status.busy": "2023-11-08T16:32:39.781875Z",
     "iopub.status.idle": "2023-11-08T16:32:39.916120Z",
     "shell.execute_reply": "2023-11-08T16:32:39.915041Z"
    },
    "papermill": {
     "duration": 0.162628,
     "end_time": "2023-11-08T16:32:39.919166",
     "exception": false,
     "start_time": "2023-11-08T16:32:39.756538",
     "status": "completed"
    },
    "tags": []
   },
   "outputs": [],
   "source": [
    "from sklearn.linear_model import LinearRegression"
   ]
  },
  {
   "cell_type": "code",
   "execution_count": 27,
   "id": "6f33fcc3",
   "metadata": {
    "ExecuteTime": {
     "end_time": "2023-11-08T14:32:07.959310Z",
     "start_time": "2023-11-08T14:32:07.947413Z"
    },
    "execution": {
     "iopub.execute_input": "2023-11-08T16:32:39.969460Z",
     "iopub.status.busy": "2023-11-08T16:32:39.968686Z",
     "iopub.status.idle": "2023-11-08T16:32:40.004322Z",
     "shell.execute_reply": "2023-11-08T16:32:40.001991Z"
    },
    "papermill": {
     "duration": 0.064992,
     "end_time": "2023-11-08T16:32:40.008174",
     "exception": false,
     "start_time": "2023-11-08T16:32:39.943182",
     "status": "completed"
    },
    "tags": []
   },
   "outputs": [
    {
     "data": {
      "text/html": [
       "<style>#sk-container-id-1 {color: black;background-color: white;}#sk-container-id-1 pre{padding: 0;}#sk-container-id-1 div.sk-toggleable {background-color: white;}#sk-container-id-1 label.sk-toggleable__label {cursor: pointer;display: block;width: 100%;margin-bottom: 0;padding: 0.3em;box-sizing: border-box;text-align: center;}#sk-container-id-1 label.sk-toggleable__label-arrow:before {content: \"▸\";float: left;margin-right: 0.25em;color: #696969;}#sk-container-id-1 label.sk-toggleable__label-arrow:hover:before {color: black;}#sk-container-id-1 div.sk-estimator:hover label.sk-toggleable__label-arrow:before {color: black;}#sk-container-id-1 div.sk-toggleable__content {max-height: 0;max-width: 0;overflow: hidden;text-align: left;background-color: #f0f8ff;}#sk-container-id-1 div.sk-toggleable__content pre {margin: 0.2em;color: black;border-radius: 0.25em;background-color: #f0f8ff;}#sk-container-id-1 input.sk-toggleable__control:checked~div.sk-toggleable__content {max-height: 200px;max-width: 100%;overflow: auto;}#sk-container-id-1 input.sk-toggleable__control:checked~label.sk-toggleable__label-arrow:before {content: \"▾\";}#sk-container-id-1 div.sk-estimator input.sk-toggleable__control:checked~label.sk-toggleable__label {background-color: #d4ebff;}#sk-container-id-1 div.sk-label input.sk-toggleable__control:checked~label.sk-toggleable__label {background-color: #d4ebff;}#sk-container-id-1 input.sk-hidden--visually {border: 0;clip: rect(1px 1px 1px 1px);clip: rect(1px, 1px, 1px, 1px);height: 1px;margin: -1px;overflow: hidden;padding: 0;position: absolute;width: 1px;}#sk-container-id-1 div.sk-estimator {font-family: monospace;background-color: #f0f8ff;border: 1px dotted black;border-radius: 0.25em;box-sizing: border-box;margin-bottom: 0.5em;}#sk-container-id-1 div.sk-estimator:hover {background-color: #d4ebff;}#sk-container-id-1 div.sk-parallel-item::after {content: \"\";width: 100%;border-bottom: 1px solid gray;flex-grow: 1;}#sk-container-id-1 div.sk-label:hover label.sk-toggleable__label {background-color: #d4ebff;}#sk-container-id-1 div.sk-serial::before {content: \"\";position: absolute;border-left: 1px solid gray;box-sizing: border-box;top: 0;bottom: 0;left: 50%;z-index: 0;}#sk-container-id-1 div.sk-serial {display: flex;flex-direction: column;align-items: center;background-color: white;padding-right: 0.2em;padding-left: 0.2em;position: relative;}#sk-container-id-1 div.sk-item {position: relative;z-index: 1;}#sk-container-id-1 div.sk-parallel {display: flex;align-items: stretch;justify-content: center;background-color: white;position: relative;}#sk-container-id-1 div.sk-item::before, #sk-container-id-1 div.sk-parallel-item::before {content: \"\";position: absolute;border-left: 1px solid gray;box-sizing: border-box;top: 0;bottom: 0;left: 50%;z-index: -1;}#sk-container-id-1 div.sk-parallel-item {display: flex;flex-direction: column;z-index: 1;position: relative;background-color: white;}#sk-container-id-1 div.sk-parallel-item:first-child::after {align-self: flex-end;width: 50%;}#sk-container-id-1 div.sk-parallel-item:last-child::after {align-self: flex-start;width: 50%;}#sk-container-id-1 div.sk-parallel-item:only-child::after {width: 0;}#sk-container-id-1 div.sk-dashed-wrapped {border: 1px dashed gray;margin: 0 0.4em 0.5em 0.4em;box-sizing: border-box;padding-bottom: 0.4em;background-color: white;}#sk-container-id-1 div.sk-label label {font-family: monospace;font-weight: bold;display: inline-block;line-height: 1.2em;}#sk-container-id-1 div.sk-label-container {text-align: center;}#sk-container-id-1 div.sk-container {/* jupyter's `normalize.less` sets `[hidden] { display: none; }` but bootstrap.min.css set `[hidden] { display: none !important; }` so we also need the `!important` here to be able to override the default hidden behavior on the sphinx rendered scikit-learn.org. See: https://github.com/scikit-learn/scikit-learn/issues/21755 */display: inline-block !important;position: relative;}#sk-container-id-1 div.sk-text-repr-fallback {display: none;}</style><div id=\"sk-container-id-1\" class=\"sk-top-container\"><div class=\"sk-text-repr-fallback\"><pre>LinearRegression()</pre><b>In a Jupyter environment, please rerun this cell to show the HTML representation or trust the notebook. <br />On GitHub, the HTML representation is unable to render, please try loading this page with nbviewer.org.</b></div><div class=\"sk-container\" hidden><div class=\"sk-item\"><div class=\"sk-estimator sk-toggleable\"><input class=\"sk-toggleable__control sk-hidden--visually\" id=\"sk-estimator-id-1\" type=\"checkbox\" checked><label for=\"sk-estimator-id-1\" class=\"sk-toggleable__label sk-toggleable__label-arrow\">LinearRegression</label><div class=\"sk-toggleable__content\"><pre>LinearRegression()</pre></div></div></div></div></div>"
      ],
      "text/plain": [
       "LinearRegression()"
      ]
     },
     "execution_count": 27,
     "metadata": {},
     "output_type": "execute_result"
    }
   ],
   "source": [
    "LR_model = LinearRegression()\n",
    "\n",
    "LR_model.fit(x_train,y_train)"
   ]
  },
  {
   "cell_type": "code",
   "execution_count": 28,
   "id": "1ba637f0",
   "metadata": {
    "ExecuteTime": {
     "end_time": "2023-11-08T14:32:07.973375Z",
     "start_time": "2023-11-08T14:32:07.966668Z"
    },
    "execution": {
     "iopub.execute_input": "2023-11-08T16:32:40.060384Z",
     "iopub.status.busy": "2023-11-08T16:32:40.059245Z",
     "iopub.status.idle": "2023-11-08T16:32:40.068639Z",
     "shell.execute_reply": "2023-11-08T16:32:40.067340Z"
    },
    "papermill": {
     "duration": 0.038822,
     "end_time": "2023-11-08T16:32:40.071387",
     "exception": false,
     "start_time": "2023-11-08T16:32:40.032565",
     "status": "completed"
    },
    "tags": []
   },
   "outputs": [
    {
     "name": "stdout",
     "output_type": "stream",
     "text": [
      "Predicted Output of test data shape: (10,)\n"
     ]
    }
   ],
   "source": [
    "y_predict = LR_model.predict(x_test)\n",
    "print(f'Predicted Output of test data shape: {y_predict.shape}')"
   ]
  },
  {
   "cell_type": "code",
   "execution_count": 29,
   "id": "881899c4",
   "metadata": {
    "ExecuteTime": {
     "end_time": "2023-11-08T14:32:07.986773Z",
     "start_time": "2023-11-08T14:32:07.975409Z"
    },
    "execution": {
     "iopub.execute_input": "2023-11-08T16:32:40.123108Z",
     "iopub.status.busy": "2023-11-08T16:32:40.122184Z",
     "iopub.status.idle": "2023-11-08T16:32:40.131372Z",
     "shell.execute_reply": "2023-11-08T16:32:40.129805Z"
    },
    "papermill": {
     "duration": 0.038245,
     "end_time": "2023-11-08T16:32:40.134088",
     "exception": false,
     "start_time": "2023-11-08T16:32:40.095843",
     "status": "completed"
    },
    "tags": []
   },
   "outputs": [
    {
     "name": "stdout",
     "output_type": "stream",
     "text": [
      "Predicted Output of train data shape: (40,)\n"
     ]
    }
   ],
   "source": [
    "y_pre_train = LR_model.predict(x_train)\n",
    "print(f'Predicted Output of train data shape: {y_pre_train.shape}')"
   ]
  },
  {
   "cell_type": "markdown",
   "id": "b1178ef7",
   "metadata": {
    "papermill": {
     "duration": 0.026113,
     "end_time": "2023-11-08T16:32:40.185752",
     "exception": false,
     "start_time": "2023-11-08T16:32:40.159639",
     "status": "completed"
    },
    "tags": []
   },
   "source": [
    "#### Model evaluation - using R square, Adjusted R square"
   ]
  },
  {
   "cell_type": "code",
   "execution_count": 30,
   "id": "29ba2c1f",
   "metadata": {
    "ExecuteTime": {
     "end_time": "2023-11-08T14:32:08.008089Z",
     "start_time": "2023-11-08T14:32:07.990111Z"
    },
    "execution": {
     "iopub.execute_input": "2023-11-08T16:32:40.238692Z",
     "iopub.status.busy": "2023-11-08T16:32:40.238228Z",
     "iopub.status.idle": "2023-11-08T16:32:40.243280Z",
     "shell.execute_reply": "2023-11-08T16:32:40.242155Z"
    },
    "papermill": {
     "duration": 0.032952,
     "end_time": "2023-11-08T16:32:40.245651",
     "exception": false,
     "start_time": "2023-11-08T16:32:40.212699",
     "status": "completed"
    },
    "tags": []
   },
   "outputs": [],
   "source": [
    "from sklearn.metrics import r2_score"
   ]
  },
  {
   "cell_type": "code",
   "execution_count": 31,
   "id": "5abcafb7",
   "metadata": {
    "ExecuteTime": {
     "end_time": "2023-11-08T14:32:08.019304Z",
     "start_time": "2023-11-08T14:32:08.009577Z"
    },
    "execution": {
     "iopub.execute_input": "2023-11-08T16:32:40.298558Z",
     "iopub.status.busy": "2023-11-08T16:32:40.298119Z",
     "iopub.status.idle": "2023-11-08T16:32:40.307607Z",
     "shell.execute_reply": "2023-11-08T16:32:40.306396Z"
    },
    "papermill": {
     "duration": 0.038238,
     "end_time": "2023-11-08T16:32:40.310317",
     "exception": false,
     "start_time": "2023-11-08T16:32:40.272079",
     "status": "completed"
    },
    "tags": []
   },
   "outputs": [
    {
     "name": "stdout",
     "output_type": "stream",
     "text": [
      "R2 score of predicted data : 0.9910973058448768\n",
      "R2 score of training data : 0.9342933008391111\n"
     ]
    }
   ],
   "source": [
    "r2_score_predicted = r2_score(y_predict,y_test)\n",
    "r2_score_pre_train = r2_score(y_pre_train,y_train)\n",
    "\n",
    "print(f'R2 score of predicted data : {r2_score_predicted}')\n",
    "print(f'R2 score of training data : {r2_score_pre_train}')"
   ]
  },
  {
   "cell_type": "code",
   "execution_count": 32,
   "id": "c433ae23",
   "metadata": {
    "ExecuteTime": {
     "end_time": "2023-11-08T14:32:08.035939Z",
     "start_time": "2023-11-08T14:32:08.023140Z"
    },
    "execution": {
     "iopub.execute_input": "2023-11-08T16:32:40.362534Z",
     "iopub.status.busy": "2023-11-08T16:32:40.362023Z",
     "iopub.status.idle": "2023-11-08T16:32:40.369822Z",
     "shell.execute_reply": "2023-11-08T16:32:40.368278Z"
    },
    "papermill": {
     "duration": 0.037209,
     "end_time": "2023-11-08T16:32:40.372727",
     "exception": false,
     "start_time": "2023-11-08T16:32:40.335518",
     "status": "completed"
    },
    "tags": []
   },
   "outputs": [
    {
     "name": "stdout",
     "output_type": "stream",
     "text": [
      "Adjusted R2 score of predicted data : 0.9866459587673151\n",
      "Adjusted R2 score of training data : 0.9288177425757037\n"
     ]
    }
   ],
   "source": [
    "print(f'Adjusted R2 score of predicted data : {1-(1-r2_score_predicted)*(10-1)/(10-3-1)}')\n",
    "print(f'Adjusted R2 score of training data : {1-(1-r2_score_pre_train)*(40-1)/(40-3-1)}')"
   ]
  },
  {
   "cell_type": "markdown",
   "id": "0af7f93a",
   "metadata": {
    "papermill": {
     "duration": 0.024746,
     "end_time": "2023-11-08T16:32:40.421790",
     "exception": false,
     "start_time": "2023-11-08T16:32:40.397044",
     "status": "completed"
    },
    "tags": []
   },
   "source": [
    "**Inference :**\n",
    "1. The R2 score and Adjusted R2 are performance parameters and there is no much difference between them indicating the model is good.\n",
    "2. There is no overfitting, it is a generalised model as the R2 score of predicted data and trained data is good."
   ]
  },
  {
   "cell_type": "markdown",
   "id": "9ac73be2",
   "metadata": {
    "papermill": {
     "duration": 0.024788,
     "end_time": "2023-11-08T16:32:40.471048",
     "exception": false,
     "start_time": "2023-11-08T16:32:40.446260",
     "status": "completed"
    },
    "tags": []
   },
   "source": [
    "### Cross- validation"
   ]
  },
  {
   "cell_type": "code",
   "execution_count": 33,
   "id": "a1ab0597",
   "metadata": {
    "ExecuteTime": {
     "end_time": "2023-11-08T14:32:08.070533Z",
     "start_time": "2023-11-08T14:32:08.038083Z"
    },
    "execution": {
     "iopub.execute_input": "2023-11-08T16:32:40.524190Z",
     "iopub.status.busy": "2023-11-08T16:32:40.523763Z",
     "iopub.status.idle": "2023-11-08T16:32:40.552833Z",
     "shell.execute_reply": "2023-11-08T16:32:40.551215Z"
    },
    "papermill": {
     "duration": 0.059085,
     "end_time": "2023-11-08T16:32:40.555753",
     "exception": false,
     "start_time": "2023-11-08T16:32:40.496668",
     "status": "completed"
    },
    "tags": []
   },
   "outputs": [
    {
     "name": "stdout",
     "output_type": "stream",
     "text": [
      "[0.94187737 0.88204153 0.90597885]\n",
      "Cross validation Score: 0.9099659181469814\n",
      "Std : 0.024590027933462186\n"
     ]
    }
   ],
   "source": [
    "## checking cross validation score\n",
    "from sklearn.model_selection import cross_val_score\n",
    "\n",
    "scores = cross_val_score(LR_model,X=x_train,y=y_train,cv=3)\n",
    "print(scores)\n",
    "print(\"Cross validation Score:\",scores.mean())\n",
    "print(\"Std :\",scores.std())\n",
    "#std of < 0.05 is good. "
   ]
  },
  {
   "cell_type": "markdown",
   "id": "e054fc48",
   "metadata": {
    "papermill": {
     "duration": 0.024862,
     "end_time": "2023-11-08T16:32:40.605101",
     "exception": false,
     "start_time": "2023-11-08T16:32:40.580239",
     "status": "completed"
    },
    "tags": []
   },
   "source": [
    "#### Calculation of cost function (MSE - Mean square error), MAE - Mean absolute error, RMSE - Root mean square error"
   ]
  },
  {
   "cell_type": "code",
   "execution_count": 34,
   "id": "12356f6d",
   "metadata": {
    "ExecuteTime": {
     "end_time": "2023-11-08T14:32:08.081438Z",
     "start_time": "2023-11-08T14:32:08.072532Z"
    },
    "execution": {
     "iopub.execute_input": "2023-11-08T16:32:40.654873Z",
     "iopub.status.busy": "2023-11-08T16:32:40.654419Z",
     "iopub.status.idle": "2023-11-08T16:32:40.660444Z",
     "shell.execute_reply": "2023-11-08T16:32:40.659035Z"
    },
    "papermill": {
     "duration": 0.033803,
     "end_time": "2023-11-08T16:32:40.662850",
     "exception": false,
     "start_time": "2023-11-08T16:32:40.629047",
     "status": "completed"
    },
    "tags": []
   },
   "outputs": [],
   "source": [
    "from sklearn.metrics import mean_squared_error,mean_absolute_error"
   ]
  },
  {
   "cell_type": "code",
   "execution_count": 35,
   "id": "6d7c539c",
   "metadata": {
    "ExecuteTime": {
     "end_time": "2023-11-08T14:32:08.091513Z",
     "start_time": "2023-11-08T14:32:08.084325Z"
    },
    "execution": {
     "iopub.execute_input": "2023-11-08T16:32:40.714671Z",
     "iopub.status.busy": "2023-11-08T16:32:40.713999Z",
     "iopub.status.idle": "2023-11-08T16:32:40.722450Z",
     "shell.execute_reply": "2023-11-08T16:32:40.720799Z"
    },
    "papermill": {
     "duration": 0.0383,
     "end_time": "2023-11-08T16:32:40.725397",
     "exception": false,
     "start_time": "2023-11-08T16:32:40.687097",
     "status": "completed"
    },
    "tags": []
   },
   "outputs": [
    {
     "name": "stdout",
     "output_type": "stream",
     "text": [
      "MSE of predicted data : 0.0004748507246916117\n",
      "MAE of predicted data : 0.014857172822025666\n",
      "RMSE of predicted data : 0.021791069838161037\n"
     ]
    }
   ],
   "source": [
    "print(f'MSE of predicted data : {mean_squared_error(y_predict,y_test)}')\n",
    "print(f'MAE of predicted data : {mean_absolute_error(y_predict,y_test)}')\n",
    "print(f'RMSE of predicted data : {np.sqrt(mean_squared_error(y_predict,y_test))}')\n"
   ]
  },
  {
   "cell_type": "code",
   "execution_count": 36,
   "id": "0c3e9011",
   "metadata": {
    "ExecuteTime": {
     "end_time": "2023-11-08T14:32:08.313637Z",
     "start_time": "2023-11-08T14:32:08.093521Z"
    },
    "execution": {
     "iopub.execute_input": "2023-11-08T16:32:40.775471Z",
     "iopub.status.busy": "2023-11-08T16:32:40.774975Z",
     "iopub.status.idle": "2023-11-08T16:32:41.212322Z",
     "shell.execute_reply": "2023-11-08T16:32:41.210648Z"
    },
    "papermill": {
     "duration": 0.468203,
     "end_time": "2023-11-08T16:32:41.217375",
     "exception": false,
     "start_time": "2023-11-08T16:32:40.749172",
     "status": "completed"
    },
    "tags": []
   },
   "outputs": [
    {
     "data": {
      "image/png": "[encoded data removed]",
      "text/plain": [
       "<Figure size 1500x600 with 1 Axes>"
      ]
     },
     "metadata": {},
     "output_type": "display_data"
    }
   ],
   "source": [
    "# Scatter plot for test\n",
    "\n",
    "plt.figure(figsize=(15,6))\n",
    "\n",
    "plt.scatter(y_test,y_predict,alpha=0.5)\n",
    "plt.title('Actual vs Predict (Test Data)',fontdict={'size':20})\n",
    "plt.xlabel('Actual Count(y_test)',fontdict={'size':15})\n",
    "plt.ylabel('Predicted Count(y_predict)',fontdict={'size':15})\n",
    "plt.grid(True)\n",
    "\n",
    "#Adding line for perfect predictions\n",
    "plt.plot([min(y_test.values),max(y_test.values)],[min(y_test.values),max(y_test.values)],\n",
    "         color='red',label='Best-fit-Line')\n",
    "plt.legend()\n",
    "plt.show()"
   ]
  },
  {
   "cell_type": "code",
   "execution_count": 37,
   "id": "7fd8f2e3",
   "metadata": {
    "ExecuteTime": {
     "end_time": "2023-11-08T14:32:08.740071Z",
     "start_time": "2023-11-08T14:32:08.315923Z"
    },
    "execution": {
     "iopub.execute_input": "2023-11-08T16:32:41.273462Z",
     "iopub.status.busy": "2023-11-08T16:32:41.272558Z",
     "iopub.status.idle": "2023-11-08T16:32:42.266177Z",
     "shell.execute_reply": "2023-11-08T16:32:42.264640Z"
    },
    "papermill": {
     "duration": 1.025301,
     "end_time": "2023-11-08T16:32:42.268927",
     "exception": false,
     "start_time": "2023-11-08T16:32:41.243626",
     "status": "completed"
    },
    "tags": []
   },
   "outputs": [
    {
     "data": {
      "image/png": "[encoded data removed]",
      "text/plain": [
       "<Figure size 1400x600 with 2 Axes>"
      ]
     },
     "metadata": {},
     "output_type": "display_data"
    }
   ],
   "source": [
    "\n",
    "# Calculate residuals\n",
    "residuals = y_test - y_predict\n",
    "\n",
    "# Create residual plots\n",
    "plt.figure(figsize=(14, 6))\n",
    "\n",
    "# Residuals vs. Fitted\n",
    "plt.subplot(1, 2, 1)\n",
    "sns.scatterplot(x=y_predict, y=residuals)\n",
    "plt.axhline(0, color='red', linestyle='--')\n",
    "plt.title('Residuals vs. Fitted')\n",
    "plt.xlabel('Fitted Values')\n",
    "plt.ylabel('Residuals')\n",
    "\n",
    "# Residuals distribution\n",
    "plt.subplot(1, 2, 2)\n",
    "sns.histplot(residuals, kde=True)\n",
    "plt.title('Residuals Distribution')\n",
    "plt.xlabel('Residuals')\n",
    "plt.ylabel('Density')\n",
    "\n",
    "plt.tight_layout()\n",
    "plt.show()"
   ]
  }
 ],
 "metadata": {
  "kernelspec": {
   "display_name": "Python 3",
   "language": "python",
   "name": "python3"
  },
  "language_info": {
   "codemirror_mode": {
    "name": "ipython",
    "version": 3
   },
   "file_extension": ".py",
   "mimetype": "text/x-python",
   "name": "python",
   "nbconvert_exporter": "python",
   "pygments_lexer": "ipython3",
   "version": "3.10.12"
  },
  "papermill": {
   "default_parameters": {},
   "duration": 16.47429,
   "end_time": "2023-11-08T16:32:43.223260",
   "environment_variables": {},
   "exception": null,
   "input_path": "__notebook__.ipynb",
   "output_path": "__notebook__.ipynb",
   "parameters": {},
   "start_time": "2023-11-08T16:32:26.748970",
   "version": "2.4.0"
  }
 },
 "nbformat": 4,
 "nbformat_minor": 5
}
